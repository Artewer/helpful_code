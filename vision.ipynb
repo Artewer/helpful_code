{
 "cells": [
  {
   "cell_type": "code",
   "execution_count": 20,
   "metadata": {},
   "outputs": [],
   "source": [
    "import base64\n",
    "import requests\n",
    "\n",
    "# OpenAI API Key\n",
    "api_key = \"\"\n",
    "\n",
    "# Function to encode the image\n",
    "def encode_image(image_path):\n",
    "  with open(image_path, \"rb\") as image_file:\n",
    "    return base64.b64encode(image_file.read()).decode('utf-8')\n",
    "\n",
    "# Path to your image\n",
    "image_path = \"t1.jpeg\"\n",
    "\n",
    "# Getting the base64 string\n",
    "base64_image = encode_image(image_path)"
   ]
  },
  {
   "cell_type": "code",
   "execution_count": 21,
   "metadata": {},
   "outputs": [
    {
     "name": "stdout",
     "output_type": "stream",
     "text": [
      "{'id': 'chatcmpl-8XZcdHEqSlImjv5tI9fDCbkjkeZbi', 'object': 'chat.completion', 'created': 1703012447, 'model': 'gpt-4-1106-vision-preview', 'usage': {'prompt_tokens': 1151, 'completion_tokens': 300, 'total_tokens': 1451}, 'choices': [{'message': {'role': 'assistant', 'content': 'In dieser Präsentation betrachten wir die Ergebnisse eines Chi-Quadrat-Tests, wie in der Tabelle dargestellt. Der Pearson-Chi-Quadrat-Wert beträgt 22,319 bei einem df (Freiheitsgrad) von 1, was zu einer asymptotischen Signifikanz von weniger als 0,001 führt. Diese hohe Signifikanz zeigt sich auch in den anderen Testwerten, wie dem Likelihood-Quotienten und dem exakten Test nach Fisher, welche ebenfalls Signifikanzen von weniger als 0,001 aufweisen.\\n\\nWas diese Zahlen uns sagen, ist, dass das Testergebnis hochsignifikant ist – der p-Wert liegt klar unter dem üblichen Signifikanzniveau von 0,05. Damit können wir davon ausgehen, dass zwischen den untersuchten Variablen ein statistisch signifikanter Zusammenhang besteht. Es ist auch wichtig, darauf hinzuweisen, dass 0 Zellen (0,0%) eine erwartete Häufigkeit kleiner 5 haben, was bedeutet, dass die Voraussetzungen für die Anwendung dieses Tests erfüllt sind.\\n\\nInsgesamt bestätigen diese Daten die Hypothese, dass ein statistisch signifikanter Zusammenhang vorliegt, und stützen somit unsere Untersuchungsergebnisse mit'}, 'finish_reason': 'length', 'index': 0}]}\n"
     ]
    }
   ],
   "source": [
    "\n",
    "headers = {\n",
    "  \"Content-Type\": \"application/json\",\n",
    "  \"Authorization\": f\"Bearer {api_key}\"\n",
    "}\n",
    "\n",
    "payload = {\n",
    "  \"model\": \"gpt-4-vision-preview\",\n",
    "  \"messages\": [\n",
    "    {\n",
    "      \"role\": \"user\",\n",
    "      \"content\": [\n",
    "        {\n",
    "          \"type\": \"text\",\n",
    "          \"text\": \"You have to give a presentation. Given an image generate a text for a presentation which highlights the differences in bar plots. The text should be short and concise but full. Generate text in German.\"\n",
    "        },\n",
    "        {\n",
    "          \"type\": \"image_url\",\n",
    "          \"image_url\": {\n",
    "            \"url\": f\"data:image/jpeg;base64,{base64_image}\"\n",
    "          }\n",
    "        }\n",
    "      ]\n",
    "    }\n",
    "  ],\n",
    "  \"max_tokens\": 300\n",
    "}\n",
    "\n",
    "response = requests.post(\"https://api.openai.com/v1/chat/completions\", headers=headers, json=payload)\n",
    "\n",
    "print(response.json())"
   ]
  },
  {
   "cell_type": "code",
   "execution_count": 22,
   "metadata": {},
   "outputs": [
    {
     "data": {
      "text/plain": [
       "'In dieser Präsentation betrachten wir die Ergebnisse eines Chi-Quadrat-Tests, wie in der Tabelle dargestellt. Der Pearson-Chi-Quadrat-Wert beträgt 22,319 bei einem df (Freiheitsgrad) von 1, was zu einer asymptotischen Signifikanz von weniger als 0,001 führt. Diese hohe Signifikanz zeigt sich auch in den anderen Testwerten, wie dem Likelihood-Quotienten und dem exakten Test nach Fisher, welche ebenfalls Signifikanzen von weniger als 0,001 aufweisen.\\n\\nWas diese Zahlen uns sagen, ist, dass das Testergebnis hochsignifikant ist – der p-Wert liegt klar unter dem üblichen Signifikanzniveau von 0,05. Damit können wir davon ausgehen, dass zwischen den untersuchten Variablen ein statistisch signifikanter Zusammenhang besteht. Es ist auch wichtig, darauf hinzuweisen, dass 0 Zellen (0,0%) eine erwartete Häufigkeit kleiner 5 haben, was bedeutet, dass die Voraussetzungen für die Anwendung dieses Tests erfüllt sind.\\n\\nInsgesamt bestätigen diese Daten die Hypothese, dass ein statistisch signifikanter Zusammenhang vorliegt, und stützen somit unsere Untersuchungsergebnisse mit'"
      ]
     },
     "execution_count": 22,
     "metadata": {},
     "output_type": "execute_result"
    }
   ],
   "source": [
    "response.json()['choices'][0]['message']['content']"
   ]
  },
  {
   "cell_type": "code",
   "execution_count": null,
   "metadata": {},
   "outputs": [],
   "source": []
  }
 ],
 "metadata": {
  "kernelspec": {
   "display_name": "Python 3",
   "language": "python",
   "name": "python3"
  },
  "language_info": {
   "codemirror_mode": {
    "name": "ipython",
    "version": 3
   },
   "file_extension": ".py",
   "mimetype": "text/x-python",
   "name": "python",
   "nbconvert_exporter": "python",
   "pygments_lexer": "ipython3",
   "version": "3.9.18"
  }
 },
 "nbformat": 4,
 "nbformat_minor": 2
}
